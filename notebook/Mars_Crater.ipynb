{
 "cells": [
  {
   "cell_type": "code",
   "execution_count": 8,
   "metadata": {},
   "outputs": [],
   "source": [
    "# import the modules\n",
    "import warnings\n",
    "warnings.filterwarnings('ignore')\n",
    "\n",
    "from sklearn.model_selection import train_test_split\n",
    "from sklearn.preprocessing import MinMaxScaler\n",
    "import pandas as pd\n",
    "import matplotlib.pyplot as plt\n",
    "from sklearn.metrics import classification_report\n",
    "from sklearn.linear_model import LogisticRegression\n",
    "from sklearn.metrics import roc_auc_score\n",
    "from sklearn.tree import DecisionTreeClassifier\n",
    "from sklearn.ensemble import RandomForestClassifier\n",
    "from sklearn.ensemble import BaggingClassifier\n",
    "from sklearn.ensemble import VotingClassifier"
   ]
  },
  {
   "cell_type": "markdown",
   "metadata": {},
   "source": [
    "### Load the dataset\n",
    "\n",
    "- Load the train data and using all your knowledge try to explore the different statistical properties of the dataset."
   ]
  },
  {
   "cell_type": "code",
   "execution_count": 9,
   "metadata": {},
   "outputs": [
    {
     "data": {
      "text/html": [
       "<div>\n",
       "<style scoped>\n",
       "    .dataframe tbody tr th:only-of-type {\n",
       "        vertical-align: middle;\n",
       "    }\n",
       "\n",
       "    .dataframe tbody tr th {\n",
       "        vertical-align: top;\n",
       "    }\n",
       "\n",
       "    .dataframe thead th {\n",
       "        text-align: right;\n",
       "    }\n",
       "</style>\n",
       "<table border=\"1\" class=\"dataframe\">\n",
       "  <thead>\n",
       "    <tr style=\"text-align: right;\">\n",
       "      <th></th>\n",
       "      <th>Id</th>\n",
       "      <th>Unnamed: 0</th>\n",
       "      <th>attr0</th>\n",
       "      <th>attr1</th>\n",
       "      <th>attr2</th>\n",
       "      <th>attr3</th>\n",
       "      <th>attr4</th>\n",
       "      <th>attr5</th>\n",
       "      <th>attr6</th>\n",
       "      <th>attr7</th>\n",
       "      <th>...</th>\n",
       "      <th>attr1080</th>\n",
       "      <th>attr1081</th>\n",
       "      <th>attr1082</th>\n",
       "      <th>attr1083</th>\n",
       "      <th>attr1084</th>\n",
       "      <th>attr1085</th>\n",
       "      <th>attr1086</th>\n",
       "      <th>attr1087</th>\n",
       "      <th>attr1088</th>\n",
       "      <th>attr1089</th>\n",
       "    </tr>\n",
       "  </thead>\n",
       "  <tbody>\n",
       "    <tr>\n",
       "      <th>0</th>\n",
       "      <td>2216</td>\n",
       "      <td>2216</td>\n",
       "      <td>-4.374765</td>\n",
       "      <td>13.819856</td>\n",
       "      <td>14.656331</td>\n",
       "      <td>-9.728919</td>\n",
       "      <td>-19.334897</td>\n",
       "      <td>0.344455</td>\n",
       "      <td>11.10572</td>\n",
       "      <td>21.977302</td>\n",
       "      <td>...</td>\n",
       "      <td>89.083581</td>\n",
       "      <td>86.194838</td>\n",
       "      <td>93.162055</td>\n",
       "      <td>100.883355</td>\n",
       "      <td>123.558503</td>\n",
       "      <td>112.831384</td>\n",
       "      <td>100.583377</td>\n",
       "      <td>102.194939</td>\n",
       "      <td>120.306692</td>\n",
       "      <td>0</td>\n",
       "    </tr>\n",
       "    <tr>\n",
       "      <th>1</th>\n",
       "      <td>2673</td>\n",
       "      <td>2673</td>\n",
       "      <td>-13.796261</td>\n",
       "      <td>-4.647589</td>\n",
       "      <td>21.676617</td>\n",
       "      <td>-0.122074</td>\n",
       "      <td>11.228644</td>\n",
       "      <td>-8.806895</td>\n",
       "      <td>-9.16119</td>\n",
       "      <td>18.025709</td>\n",
       "      <td>...</td>\n",
       "      <td>100.750899</td>\n",
       "      <td>83.373142</td>\n",
       "      <td>76.902208</td>\n",
       "      <td>72.182997</td>\n",
       "      <td>102.843819</td>\n",
       "      <td>93.118477</td>\n",
       "      <td>80.338570</td>\n",
       "      <td>80.196648</td>\n",
       "      <td>93.995657</td>\n",
       "      <td>0</td>\n",
       "    </tr>\n",
       "    <tr>\n",
       "      <th>2</th>\n",
       "      <td>5603</td>\n",
       "      <td>5603</td>\n",
       "      <td>-2.115400</td>\n",
       "      <td>-3.332400</td>\n",
       "      <td>-6.640000</td>\n",
       "      <td>-13.825000</td>\n",
       "      <td>4.123200</td>\n",
       "      <td>27.365000</td>\n",
       "      <td>6.70020</td>\n",
       "      <td>3.783000</td>\n",
       "      <td>...</td>\n",
       "      <td>52.917000</td>\n",
       "      <td>34.799000</td>\n",
       "      <td>42.562000</td>\n",
       "      <td>51.161000</td>\n",
       "      <td>77.139000</td>\n",
       "      <td>73.367000</td>\n",
       "      <td>50.733000</td>\n",
       "      <td>39.949000</td>\n",
       "      <td>60.731000</td>\n",
       "      <td>0</td>\n",
       "    </tr>\n",
       "    <tr>\n",
       "      <th>3</th>\n",
       "      <td>6401</td>\n",
       "      <td>6401</td>\n",
       "      <td>-25.531000</td>\n",
       "      <td>66.699000</td>\n",
       "      <td>-13.025000</td>\n",
       "      <td>-31.198000</td>\n",
       "      <td>12.016000</td>\n",
       "      <td>19.365000</td>\n",
       "      <td>5.04510</td>\n",
       "      <td>20.418000</td>\n",
       "      <td>...</td>\n",
       "      <td>49.488000</td>\n",
       "      <td>71.633000</td>\n",
       "      <td>66.757000</td>\n",
       "      <td>69.213000</td>\n",
       "      <td>97.606000</td>\n",
       "      <td>81.416000</td>\n",
       "      <td>53.808000</td>\n",
       "      <td>41.489000</td>\n",
       "      <td>71.825000</td>\n",
       "      <td>0</td>\n",
       "    </tr>\n",
       "    <tr>\n",
       "      <th>4</th>\n",
       "      <td>6043</td>\n",
       "      <td>6043</td>\n",
       "      <td>18.993000</td>\n",
       "      <td>-5.620000</td>\n",
       "      <td>-9.964900</td>\n",
       "      <td>3.307200</td>\n",
       "      <td>0.999760</td>\n",
       "      <td>-10.920000</td>\n",
       "      <td>-11.39200</td>\n",
       "      <td>3.918500</td>\n",
       "      <td>...</td>\n",
       "      <td>84.508000</td>\n",
       "      <td>89.976000</td>\n",
       "      <td>61.169000</td>\n",
       "      <td>33.132000</td>\n",
       "      <td>58.043000</td>\n",
       "      <td>54.522000</td>\n",
       "      <td>80.941000</td>\n",
       "      <td>53.000000</td>\n",
       "      <td>80.615000</td>\n",
       "      <td>1</td>\n",
       "    </tr>\n",
       "  </tbody>\n",
       "</table>\n",
       "<p>5 rows × 1092 columns</p>\n",
       "</div>"
      ],
      "text/plain": [
       "     Id  Unnamed: 0      attr0      attr1      attr2      attr3      attr4  \\\n",
       "0  2216        2216  -4.374765  13.819856  14.656331  -9.728919 -19.334897   \n",
       "1  2673        2673 -13.796261  -4.647589  21.676617  -0.122074  11.228644   \n",
       "2  5603        5603  -2.115400  -3.332400  -6.640000 -13.825000   4.123200   \n",
       "3  6401        6401 -25.531000  66.699000 -13.025000 -31.198000  12.016000   \n",
       "4  6043        6043  18.993000  -5.620000  -9.964900   3.307200   0.999760   \n",
       "\n",
       "       attr5     attr6      attr7  ...    attr1080   attr1081   attr1082  \\\n",
       "0   0.344455  11.10572  21.977302  ...   89.083581  86.194838  93.162055   \n",
       "1  -8.806895  -9.16119  18.025709  ...  100.750899  83.373142  76.902208   \n",
       "2  27.365000   6.70020   3.783000  ...   52.917000  34.799000  42.562000   \n",
       "3  19.365000   5.04510  20.418000  ...   49.488000  71.633000  66.757000   \n",
       "4 -10.920000 -11.39200   3.918500  ...   84.508000  89.976000  61.169000   \n",
       "\n",
       "     attr1083    attr1084    attr1085    attr1086    attr1087    attr1088  \\\n",
       "0  100.883355  123.558503  112.831384  100.583377  102.194939  120.306692   \n",
       "1   72.182997  102.843819   93.118477   80.338570   80.196648   93.995657   \n",
       "2   51.161000   77.139000   73.367000   50.733000   39.949000   60.731000   \n",
       "3   69.213000   97.606000   81.416000   53.808000   41.489000   71.825000   \n",
       "4   33.132000   58.043000   54.522000   80.941000   53.000000   80.615000   \n",
       "\n",
       "   attr1089  \n",
       "0         0  \n",
       "1         0  \n",
       "2         0  \n",
       "3         0  \n",
       "4         1  \n",
       "\n",
       "[5 rows x 1092 columns]"
      ]
     },
     "execution_count": 9,
     "metadata": {},
     "output_type": "execute_result"
    }
   ],
   "source": [
    "# Code starts here\n",
    "\n",
    "train = pd.read_csv('../data/train.csv')\n",
    "train.head()\n",
    "\n",
    "# Code ends here"
   ]
  },
  {
   "cell_type": "code",
   "execution_count": 11,
   "metadata": {},
   "outputs": [],
   "source": [
    "X = train.drop(['Id','Unnamed: 0','attr1089'],axis = 1)\n",
    "y = train['attr1089'].copy()"
   ]
  },
  {
   "cell_type": "markdown",
   "metadata": {},
   "source": [
    "### Visualize the data\n",
    "\n",
    "- Check the distribution of the target variable. Is the data imbalanced?\n",
    "- Clean the data, apply some data preprocessing and engineering techniques."
   ]
  },
  {
   "cell_type": "code",
   "execution_count": 12,
   "metadata": {},
   "outputs": [
    {
     "name": "stdout",
     "output_type": "stream",
     "text": [
      "1    3080\n",
      "0    2812\n",
      "Name: attr1089, dtype: int64\n"
     ]
    },
    {
     "data": {
      "image/png": "[encoded data removed]",
      "text/plain": [
       "<Figure size 432x288 with 1 Axes>"
      ]
     },
     "metadata": {
      "needs_background": "light"
     },
     "output_type": "display_data"
    }
   ],
   "source": [
    "# Code starts here\n",
    "#Storing value counts of target variable in 'fully_paid'\n",
    "crater_count = y.value_counts()\n",
    "print(y.value_counts())\n",
    "\n",
    "#Plotting bar plot\n",
    "plt.bar(crater_count.index, crater_count, tick_label = [1,0])\n",
    "plt.show()\n",
    "\n",
    "# Standardize the data\n",
    "scaler = MinMaxScaler()\n",
    "scaler.fit(X)\n",
    "X = scaler.transform(X)\n",
    "\n",
    "\n",
    "# Code ends here."
   ]
  },
  {
   "cell_type": "markdown",
   "metadata": {},
   "source": [
    "### Model building\n",
    "\n",
    "- Split the data into train and test.\n",
    "- Now let's come to the actual task, predict the values of `attr1089` after building a Machine learning model.\n",
    "- Try improving upon the `roc_auc_score` ([ROC-AUC Score](https://scikit-learn.org/stable/modules/generated/sklearn.metrics.roc_auc_score.html#sklearn.metrics.roc_auc_score))"
   ]
  },
  {
   "cell_type": "code",
   "execution_count": 13,
   "metadata": {},
   "outputs": [
    {
     "name": "stdout",
     "output_type": "stream",
     "text": [
      "0.8260211041050057\n"
     ]
    }
   ],
   "source": [
    "# Code Starts here\n",
    "\n",
    "X_train, X_test, y_train, y_test = train_test_split(X, y, test_size = 0.3, random_state = 0)\n",
    "\n",
    "# Initialize the logistic regression\n",
    "lr = LogisticRegression()\n",
    "\n",
    "# Fit the model \n",
    "lr.fit(X_train,y_train)\n",
    "\n",
    "# Store the predicted values of test data\n",
    "y_pred = lr.predict(X_test)\n",
    "\n",
    "# roc score\n",
    "roc_score = roc_auc_score(y_pred,y_test)\n",
    "print(roc_score)"
   ]
  },
  {
   "cell_type": "code",
   "execution_count": 14,
   "metadata": {},
   "outputs": [
    {
     "name": "stdout",
     "output_type": "stream",
     "text": [
      "0.8666157372039724\n"
     ]
    }
   ],
   "source": [
    "# Can we improve our model's performance with Decision Tree algorithm?\n",
    "\n",
    "# Initialize decision tree\n",
    "dt = DecisionTreeClassifier(random_state = 4)\n",
    "\n",
    "# Fit the model on train data\n",
    "dt.fit(X_train,y_train)\n",
    "\n",
    "# accuracy\n",
    "accuracy = dt.score(X_test,y_test)\n",
    "\n",
    "# Predicted values for test data\n",
    "y_pred = dt.predict(X_test)\n",
    "\n",
    "# ROC score\n",
    "roc_score = roc_auc_score(y_test,y_pred)\n",
    "print(roc_score)"
   ]
  },
  {
   "cell_type": "code",
   "execution_count": 15,
   "metadata": {},
   "outputs": [
    {
     "name": "stdout",
     "output_type": "stream",
     "text": [
      "0.920244461420932\n"
     ]
    }
   ],
   "source": [
    "# Can we improve our model's performance with Random forrest algorithm?\n",
    "\n",
    "# Initialize RandomForrest model to variable rfc\n",
    "rfc = RandomForestClassifier(random_state=4)\n",
    "\n",
    "# Fit the model\n",
    "rfc.fit(X_train,y_train)\n",
    "\n",
    "# Store the predicted values of test data\n",
    "y_pred = rfc.predict(X_test)\n",
    "\n",
    "# accuracy\n",
    "accuracy = rfc.score(X_test,y_test)\n",
    "\n",
    "# roc score\n",
    "roc_score = roc_auc_score(y_test,y_pred)\n",
    "print(roc_score)"
   ]
  },
  {
   "cell_type": "code",
   "execution_count": 16,
   "metadata": {},
   "outputs": [
    {
     "name": "stdout",
     "output_type": "stream",
     "text": [
      "0.8359728506787331\n",
      "0.8339190221543163\n"
     ]
    }
   ],
   "source": [
    "# Bagginng or Bootstrap aggregation\n",
    "\n",
    "# Initialize Bagging Classifier\n",
    "bagging_clf = BaggingClassifier(DecisionTreeClassifier(), random_state=0,n_estimators=100,max_samples=100)\n",
    "\n",
    "# Fit the model on training data\n",
    "bagging_clf.fit(X_train,y_train)\n",
    "\n",
    "# Predicted values of X_test\n",
    "y_pred = bagging_clf.predict(X_test)\n",
    "\n",
    "# accuracy \n",
    "print(bagging_clf.score(X_test,y_test))\n",
    "\n",
    "# roc_score\n",
    "score_bagging = roc_auc_score(y_test,y_pred)\n",
    "print(score_bagging)"
   ]
  },
  {
   "cell_type": "code",
   "execution_count": 17,
   "metadata": {},
   "outputs": [
    {
     "name": "stdout",
     "output_type": "stream",
     "text": [
      "0.9078054298642534\n"
     ]
    }
   ],
   "source": [
    "# Voting Classifier\n",
    "\n",
    "# Various models\n",
    "clf_1 = LogisticRegression()\n",
    "clf_2 = DecisionTreeClassifier(random_state=4)\n",
    "clf_3 = RandomForestClassifier(random_state=4)\n",
    "\n",
    "model_list = [('lr',clf_1),('DT',clf_2),('RF',clf_3)]\n",
    "\n",
    "# Code starts here\n",
    "# Initialize voting classifier\n",
    "voting_clf_hard = VotingClassifier(estimators=model_list,voting='hard')\n",
    "\n",
    "# Fit the model on training data\n",
    "voting_clf_hard.fit(X_train,y_train)\n",
    "\n",
    "# accuracy\n",
    "hard_voting_score = voting_clf_hard.score(X_test,y_test)\n",
    "print(hard_voting_score)"
   ]
  },
  {
   "cell_type": "markdown",
   "metadata": {},
   "source": [
    "### Prediction on the test data and creating the sample submission file.\n",
    "\n",
    "- Load the test data and store the `Id` column in a separate variable.\n",
    "- Perform the same operations on the test data that you have performed on the train data.\n",
    "- Create the submission file as a `csv` file consisting of the `Id` column from the test data and your prediction as the second column."
   ]
  },
  {
   "cell_type": "code",
   "execution_count": 19,
   "metadata": {},
   "outputs": [
    {
     "data": {
      "text/plain": [
       "array([1, 1, 1, 1, 1, 1, 0, 1, 1, 1, 1, 1, 1, 1, 1, 1, 1, 0, 1, 1, 1, 1,\n",
       "       0, 1, 1, 1, 1, 1, 1, 1, 1, 1, 1, 1, 1, 1, 1, 1, 0, 1, 1, 1, 1, 1,\n",
       "       1, 0, 0, 1, 1, 1, 1, 1, 1, 1, 1, 1, 1, 1, 1, 1, 1, 1, 1, 1, 1, 1,\n",
       "       1, 1, 1, 1, 1, 1, 1, 1, 1, 1, 1, 1, 0, 0, 0, 1, 1, 1, 1, 1, 0, 1,\n",
       "       1, 1, 1, 1, 1, 1, 1, 1, 1, 1, 1, 1], dtype=int64)"
      ]
     },
     "execution_count": 19,
     "metadata": {},
     "output_type": "execute_result"
    }
   ],
   "source": [
    "# Code Starts here\n",
    "\n",
    "test = pd.read_csv('../data/test.csv')\n",
    "\n",
    "id_ = test['Id'].copy()\n",
    "\n",
    "test = test.drop(['Id','Unnamed: 0'],1)\n",
    "\n",
    "res = rfc.predict(test)\n",
    "res\n",
    "\n",
    "# sample = pd.read_csv('sample_submission.csv')\n",
    "\n",
    "# sample['Id'] = id_\n",
    "# sample['attr1089'] = res\n",
    "\n",
    "# submission = sample.to_csv('submission.csv', index = False)\n",
    "# Code ends here"
   ]
  },
  {
   "cell_type": "code",
   "execution_count": null,
   "metadata": {},
   "outputs": [],
   "source": []
  }
 ],
 "metadata": {
  "kernelspec": {
   "display_name": "Python 3 (ipykernel)",
   "language": "python",
   "name": "python3"
  },
  "language_info": {
   "codemirror_mode": {
    "name": "ipython",
    "version": 3
   },
   "file_extension": ".py",
   "mimetype": "text/x-python",
   "name": "python",
   "nbconvert_exporter": "python",
   "pygments_lexer": "ipython3",
   "version": "3.8.12"
  }
 },
 "nbformat": 4,
 "nbformat_minor": 2
}
